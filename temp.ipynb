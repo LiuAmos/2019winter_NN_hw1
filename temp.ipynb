{
 "cells": [
  {
   "cell_type": "markdown",
   "metadata": {},
   "source": [
    "可能要直接train一個MLP"
   ]
  },
  {
   "cell_type": "code",
   "execution_count": 2,
   "metadata": {},
   "outputs": [
    {
     "name": "stderr",
     "output_type": "stream",
     "text": [
      "Using TensorFlow backend.\n"
     ]
    }
   ],
   "source": [
    "from keras.models import Sequential #引入Sequential函式\n",
    "from keras.layers import Dense, Activation #引入層數及激勵函數\n",
    "model = Sequential()"
   ]
  },
  {
   "cell_type": "markdown",
   "metadata": {},
   "source": [
    "1.直接在Sequential()裡面定義層數、激勵函數："
   ]
  },
  {
   "cell_type": "code",
   "execution_count": 3,
   "metadata": {},
   "outputs": [
    {
     "name": "stdout",
     "output_type": "stream",
     "text": [
      "_________________________________________________________________\n",
      "Layer (type)                 Output Shape              Param #   \n",
      "=================================================================\n",
      "dense_1 (Dense)              (None, 512)               401920    \n",
      "_________________________________________________________________\n",
      "activation_1 (Activation)    (None, 512)               0         \n",
      "=================================================================\n",
      "Total params: 401,920\n",
      "Trainable params: 401,920\n",
      "Non-trainable params: 0\n",
      "_________________________________________________________________\n",
      "None\n"
     ]
    }
   ],
   "source": [
    "from keras.models import Sequential #引入Sequential函式\n",
    "from keras.layers import Dense, Activation #引入層數及激勵函數\n",
    "\n",
    "model = Sequential([\n",
    "    Dense(512, input_shape=(784,)), \n",
    "    #Dense：全連接層 \n",
    "    #輸入的張量，784神經元(或稱組數輸入)\n",
    "    #512是輸出的神經元數量(或稱組數)\n",
    "    Activation('relu'), #設定激活層並採用relu\n",
    "])\n",
    "print(model.summary()) #顯示目前網路架構"
   ]
  },
  {
   "cell_type": "markdown",
   "metadata": {},
   "source": [
    "2.用add疊加上去"
   ]
  },
  {
   "cell_type": "code",
   "execution_count": 4,
   "metadata": {},
   "outputs": [
    {
     "name": "stdout",
     "output_type": "stream",
     "text": [
      "_________________________________________________________________\n",
      "Layer (type)                 Output Shape              Param #   \n",
      "=================================================================\n",
      "dense_2 (Dense)              (None, 512)               401920    \n",
      "_________________________________________________________________\n",
      "activation_2 (Activation)    (None, 512)               0         \n",
      "=================================================================\n",
      "Total params: 401,920\n",
      "Trainable params: 401,920\n",
      "Non-trainable params: 0\n",
      "_________________________________________________________________\n",
      "None\n"
     ]
    }
   ],
   "source": [
    "from keras.models import Sequential #引入Sequential函式\n",
    "from keras.layers import Dense, Activation #引入層數及激勵函數\n",
    "model = Sequential() #定義模型\n",
    "model.add(Dense(512,input_shape=(784,))) #加入神經層第一層(輸入784)輸出512\n",
    "model.add(Activation('relu')) #激勵層\n",
    "print(model.summary()) #顯示架構"
   ]
  },
  {
   "cell_type": "code",
   "execution_count": null,
   "metadata": {},
   "outputs": [],
   "source": []
  },
  {
   "cell_type": "markdown",
   "metadata": {},
   "source": [
    "參考資料\n",
    "\n",
    "[keras的sequential入門](https://ithelp.ithome.com.tw/articles/10224345)"
   ]
  },
  {
   "cell_type": "code",
   "execution_count": null,
   "metadata": {},
   "outputs": [],
   "source": []
  },
  {
   "cell_type": "code",
   "execution_count": null,
   "metadata": {},
   "outputs": [],
   "source": []
  },
  {
   "cell_type": "code",
   "execution_count": null,
   "metadata": {},
   "outputs": [],
   "source": []
  }
 ],
 "metadata": {
  "kernelspec": {
   "display_name": "Python 3",
   "language": "python",
   "name": "python3"
  },
  "language_info": {
   "codemirror_mode": {
    "name": "ipython",
    "version": 3
   },
   "file_extension": ".py",
   "mimetype": "text/x-python",
   "name": "python",
   "nbconvert_exporter": "python",
   "pygments_lexer": "ipython3",
   "version": "3.6.5"
  }
 },
 "nbformat": 4,
 "nbformat_minor": 2
}
